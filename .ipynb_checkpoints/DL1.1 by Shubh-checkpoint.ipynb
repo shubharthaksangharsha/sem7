{
 "cells": [
  {
   "cell_type": "markdown",
   "id": "e8f5de84",
   "metadata": {},
   "source": [
    "# Deep Learning Lab \n",
    "## Experiment 1. 1: Implement a perceptron model\n",
    "\n",
    "### By Shubharthak, 20BCS6872"
   ]
  },
  {
   "cell_type": "code",
   "execution_count": 3,
   "id": "a0c21499",
   "metadata": {},
   "outputs": [],
   "source": [
    "import numpy as np "
   ]
  },
  {
   "cell_type": "code",
   "execution_count": 6,
   "id": "5b34a0e1",
   "metadata": {},
   "outputs": [
    {
     "name": "stdout",
     "output_type": "stream",
     "text": [
      "Enter the total number of input size: 4\n",
      "Enter 1 input value: 3\n",
      "Enter 2 input value: 4\n",
      "Enter 3 input value: 5\n",
      "Enter 4 input value: 2\n",
      "Enter 1 weight value: 0.4\n",
      "Enter 2 weight value: 0.15\n",
      "Enter 3 weight value: 0.4\n",
      "Enter 4 weight value: 0.5\n",
      "Enter the bias value: 1\n"
     ]
    }
   ],
   "source": [
    "#Take the input from the user \n",
    "n = int(input('Enter the total number of input size: '))\n",
    "X = np.array([float(input(f'Enter {i + 1} input value: ')) for i in range(n)])\n",
    "W = np.array([float(input(f'Enter {i + 1} weight value: ')) for i in range(n)])\n",
    "b = int(input('Enter the bias value: '))"
   ]
  },
  {
   "cell_type": "code",
   "execution_count": 10,
   "id": "9d4a76dc",
   "metadata": {},
   "outputs": [],
   "source": [
    "def y_in(X, W, b) -> float:\n",
    "    '''\n",
    "    Function to calculate the y_in value (dot product + bias)\n",
    "    '''\n",
    "    return np.dot(X, W)\n",
    "\n",
    "def sigmoid(y_in) -> float:\n",
    "    '''\n",
    "    Function to calculate the sigmoid function (between 0 and 1)\n",
    "    '''\n",
    "    return 1/ (1 + np.exp(-y_in))\n",
    "\n",
    "def flag(sigmoid_value) -> int:\n",
    "    if sigmoid_value >= 0.5:\n",
    "        return 1\n",
    "    return 0\n",
    "\n",
    "def get_answer(X, W, b):\n",
    "    return sigmoid(y_in(X, W, b))"
   ]
  },
  {
   "cell_type": "code",
   "execution_count": 11,
   "id": "8d98802f",
   "metadata": {},
   "outputs": [
    {
     "data": {
      "text/plain": [
       "0.9918374288468401"
      ]
     },
     "execution_count": 11,
     "metadata": {},
     "output_type": "execute_result"
    }
   ],
   "source": [
    "get_answer(X, W, b)"
   ]
  },
  {
   "cell_type": "code",
   "execution_count": null,
   "id": "25ab76e8",
   "metadata": {},
   "outputs": [],
   "source": []
  }
 ],
 "metadata": {
  "kernelspec": {
   "display_name": "Python 3 (ipykernel)",
   "language": "python",
   "name": "python3"
  },
  "language_info": {
   "codemirror_mode": {
    "name": "ipython",
    "version": 3
   },
   "file_extension": ".py",
   "mimetype": "text/x-python",
   "name": "python",
   "nbconvert_exporter": "python",
   "pygments_lexer": "ipython3",
   "version": "3.10.10"
  }
 },
 "nbformat": 4,
 "nbformat_minor": 5
}
