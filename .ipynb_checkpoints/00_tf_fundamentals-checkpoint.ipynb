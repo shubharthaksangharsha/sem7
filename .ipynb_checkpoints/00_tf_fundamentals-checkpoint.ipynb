{
 "cells": [
  {
   "cell_type": "markdown",
   "id": "0ef956d9",
   "metadata": {},
   "source": [
    "# We're going to cover some of the most fundamentals concept of tensors using TensorFlow"
   ]
  },
  {
   "cell_type": "markdown",
   "id": "f9ce4d78",
   "metadata": {},
   "source": [
    "## Switch between GPU and CPU "
   ]
  },
  {
   "cell_type": "code",
   "execution_count": 1,
   "id": "39a0d075",
   "metadata": {},
   "outputs": [],
   "source": [
    "import os\n",
    "os.environ[\"CUDA_VISIBLE_DEVICES\"]=\"-1\"    "
   ]
  },
  {
   "cell_type": "markdown",
   "id": "b86ac63c",
   "metadata": {},
   "source": [
    "## Checking GPU "
   ]
  },
  {
   "cell_type": "code",
   "execution_count": 2,
   "id": "e2735609",
   "metadata": {},
   "outputs": [
    {
     "name": "stdout",
     "output_type": "stream",
     "text": [
      "/bin/bash: /home/shubharthak/miniconda3/lib/libtinfo.so.6: no version information available (required by /bin/bash)\n",
      "Fri Aug  4 11:22:21 2023       \n",
      "+---------------------------------------------------------------------------------------+\n",
      "| NVIDIA-SMI 530.30.02              Driver Version: 530.30.02    CUDA Version: 12.1     |\n",
      "|-----------------------------------------+----------------------+----------------------+\n",
      "| GPU  Name                  Persistence-M| Bus-Id        Disp.A | Volatile Uncorr. ECC |\n",
      "| Fan  Temp  Perf            Pwr:Usage/Cap|         Memory-Usage | GPU-Util  Compute M. |\n",
      "|                                         |                      |               MIG M. |\n",
      "|=========================================+======================+======================|\n",
      "|   0  NVIDIA GeForce RTX 3060 L...    On | 00000000:01:00.0 Off |                  N/A |\n",
      "| N/A   45C    P3               17W /  55W|      6MiB /  6144MiB |      0%      Default |\n",
      "|                                         |                      |                  N/A |\n",
      "+-----------------------------------------+----------------------+----------------------+\n",
      "                                                                                         \n",
      "+---------------------------------------------------------------------------------------+\n",
      "| Processes:                                                                            |\n",
      "|  GPU   GI   CI        PID   Type   Process name                            GPU Memory |\n",
      "|        ID   ID                                                             Usage      |\n",
      "|=======================================================================================|\n",
      "|    0   N/A  N/A      2624      G   /usr/lib/xorg/Xorg                            4MiB |\n",
      "+---------------------------------------------------------------------------------------+\n"
     ]
    }
   ],
   "source": [
    "!nvidia-smi"
   ]
  },
  {
   "cell_type": "markdown",
   "id": "47eb1595",
   "metadata": {},
   "source": [
    "## Introduction to Tensors"
   ]
  },
  {
   "cell_type": "code",
   "execution_count": null,
   "id": "8ba3617b",
   "metadata": {},
   "outputs": [],
   "source": [
    "import tensorflow as tf "
   ]
  },
  {
   "cell_type": "code",
   "execution_count": null,
   "id": "a2638c07",
   "metadata": {},
   "outputs": [],
   "source": [
    "# Create tensor with tf.constant()\n",
    "scalar = tf.constant([2]) #scalar \n",
    "scalar"
   ]
  },
  {
   "cell_type": "code",
   "execution_count": null,
   "id": "df2e60a8",
   "metadata": {},
   "outputs": [],
   "source": [
    "#check number of dimensions (ndim stands for number of dimensions )\n",
    "scalar.ndim"
   ]
  },
  {
   "cell_type": "code",
   "execution_count": null,
   "id": "b822d4c8",
   "metadata": {},
   "outputs": [],
   "source": [
    "#create a vector \n",
    "vector = tf.constant([10, 10])\n",
    "vector"
   ]
  },
  {
   "cell_type": "code",
   "execution_count": null,
   "id": "137e8b04",
   "metadata": {},
   "outputs": [],
   "source": [
    "#check dimension of vector \n",
    "vector.ndim"
   ]
  },
  {
   "cell_type": "code",
   "execution_count": null,
   "id": "0ffcdf3e",
   "metadata": {},
   "outputs": [],
   "source": [
    "#Create a matrix \n",
    "matrix = tf.constant([[10, 7], \n",
    "                      [7, 10]])\n",
    "matrix"
   ]
  },
  {
   "cell_type": "code",
   "execution_count": null,
   "id": "30a2d459",
   "metadata": {},
   "outputs": [],
   "source": [
    "matrix.ndim"
   ]
  },
  {
   "cell_type": "code",
   "execution_count": null,
   "id": "d37c6b5c",
   "metadata": {},
   "outputs": [],
   "source": [
    "matrix2 = tf.constant([[10., 7.], \n",
    "                      [7., 10.]], dtype=tf.float16)\n",
    "matrix2"
   ]
  },
  {
   "cell_type": "code",
   "execution_count": null,
   "id": "c71c14dc",
   "metadata": {},
   "outputs": [],
   "source": [
    "#Let's create a tensor \n",
    "tensor = tf.constant([[[1, 2, 3,], \n",
    "                      [4, 5, 6]], \n",
    "                      [[7, 8, 9],\n",
    "                      [10, 133, 12]], \n",
    "                     [[13, 14, 15],\n",
    "                     [16, 17, 18]]])\n",
    "tensor"
   ]
  },
  {
   "cell_type": "code",
   "execution_count": null,
   "id": "a5da85cb",
   "metadata": {},
   "outputs": [],
   "source": [
    "tensor.ndim"
   ]
  },
  {
   "cell_type": "markdown",
   "id": "f4161798",
   "metadata": {},
   "source": [
    "## Creating Tensors with tf.Variable"
   ]
  },
  {
   "cell_type": "code",
   "execution_count": null,
   "id": "4b831ed3",
   "metadata": {},
   "outputs": [],
   "source": [
    "changeable_tensor = tf.Variable([10, 7])\n",
    "unchangeable_tensor = tf.constant([10, 7])\n",
    "changeable_tensor, unchangeable_tensor"
   ]
  },
  {
   "cell_type": "code",
   "execution_count": null,
   "id": "9f5687ed",
   "metadata": {},
   "outputs": [],
   "source": [
    "changeable_tensor[0].assign(7)\n",
    "changeable_tensor"
   ]
  },
  {
   "cell_type": "markdown",
   "id": "c88e84c9",
   "metadata": {},
   "source": [
    "## Creating Random Tensors "
   ]
  },
  {
   "cell_type": "code",
   "execution_count": null,
   "id": "fabcd6eb",
   "metadata": {},
   "outputs": [],
   "source": [
    "# Create random tensors \n",
    "rand1 = tf.random.Generator.from_seed(42) #set seed for reproducibility \n",
    "rand1 = rand1.normal(shape=(3, 2))\n",
    "rand2 = tf.random.Generator.from_seed(42) \n",
    "rand2 = rand2.normal(shape=(3, 2))\n",
    "rand1, rand2, rand1 == rand2"
   ]
  },
  {
   "cell_type": "markdown",
   "id": "0f338ae7",
   "metadata": {},
   "source": [
    "# Shuffle the Tensors"
   ]
  },
  {
   "cell_type": "code",
   "execution_count": null,
   "id": "9323d0a2",
   "metadata": {},
   "outputs": [],
   "source": [
    "# Shuffle a tensor you want to shuffle data so that inherent order doesn't effect learning \n",
    "not_shuffled = tf.constant([[10, 7], \n",
    "                          [3, 4], \n",
    "                          [2, 5]])\n",
    "\n",
    "not_shuffled.ndim"
   ]
  },
  {
   "cell_type": "code",
   "execution_count": null,
   "id": "209fd0f2",
   "metadata": {},
   "outputs": [],
   "source": [
    "not_shuffled"
   ]
  },
  {
   "cell_type": "code",
   "execution_count": null,
   "id": "db6afa79",
   "metadata": {},
   "outputs": [],
   "source": [
    "tf.random.set_seed(42)\n",
    "shuffled = tf.random.shuffle(not_shuffled, seed=42)\n",
    "shuffled"
   ]
  },
  {
   "cell_type": "markdown",
   "id": "7c8d3e99",
   "metadata": {},
   "source": [
    "## Other ways to make tensors "
   ]
  },
  {
   "cell_type": "code",
   "execution_count": null,
   "id": "98f8be60",
   "metadata": {},
   "outputs": [],
   "source": [
    "tf.ones(shape=(10,7))"
   ]
  },
  {
   "cell_type": "code",
   "execution_count": null,
   "id": "751b9746",
   "metadata": {},
   "outputs": [],
   "source": [
    "tf.zeros(shape=(10,7))"
   ]
  },
  {
   "cell_type": "code",
   "execution_count": null,
   "id": "32001f11",
   "metadata": {},
   "outputs": [],
   "source": [
    "#You can also turn numpy array into numpy array into tensors \n",
    "import numpy as np \n",
    "numpy_A = np.arange(1, 25, dtype=np.int32) #create numpy between 1 to 25\n",
    "#X = tf.constant(some_matrix) #capital for matrix \n",
    "#y = tf.constant(vector)  #capital for vector\n",
    "A = tf.constant(numpy_A)\n",
    "A"
   ]
  },
  {
   "cell_type": "code",
   "execution_count": null,
   "id": "3037dc15",
   "metadata": {},
   "outputs": [],
   "source": [
    "B = tf.constant(numpy_A, shape=(2, 3, 4))\n",
    "A, B"
   ]
  },
  {
   "cell_type": "code",
   "execution_count": null,
   "id": "9f4577f7",
   "metadata": {},
   "outputs": [],
   "source": [
    "if A == B:\n",
    "    print('Equal')\n",
    "else:\n",
    "    print('Not-Equal')"
   ]
  },
  {
   "cell_type": "markdown",
   "id": "cfb5255e",
   "metadata": {},
   "source": [
    "## Getting information from tensors \n",
    "\n",
    "When dealing with tensors you probably to be aware of the following attributes: \n",
    "* Shape \n",
    "* Rank \n",
    "* Axis or dimension\n",
    "* Size"
   ]
  },
  {
   "cell_type": "code",
   "execution_count": null,
   "id": "4f5ecb72",
   "metadata": {},
   "outputs": [],
   "source": [
    "# Create a rank 4 tensor (4 dimensions )\n",
    "rank_4 = tf.zeros(shape=[2, 3, 4, 5])\n",
    "rank_4"
   ]
  },
  {
   "cell_type": "code",
   "execution_count": null,
   "id": "e8c152b9",
   "metadata": {},
   "outputs": [],
   "source": [
    "rank_4.shape, rank_4.ndim, tf.size(rank_4)"
   ]
  },
  {
   "cell_type": "code",
   "execution_count": null,
   "id": "e0901b57",
   "metadata": {},
   "outputs": [],
   "source": [
    "#Get various attributes of our tensor \n",
    "def info(tensor):\n",
    "    print(\"Datatype of every element:\", tensor.dtype)\n",
    "    print(\"Number of dimensions (rank):\", tensor.ndim)\n",
    "    print(\"Shape of tensor:\", tensor.shape)\n",
    "    print(\"Elements along the 0 axis:\", tensor.shape[0])\n",
    "    print(\"Elements along the last axis:\", tensor.shape[-1])\n",
    "    print(\"Total number of elements in our tensors:\", tf.size(tensor).numpy())"
   ]
  },
  {
   "cell_type": "code",
   "execution_count": null,
   "id": "9373dc10",
   "metadata": {},
   "outputs": [],
   "source": [
    "info(rank_4)"
   ]
  },
  {
   "cell_type": "markdown",
   "id": "4132cdcd",
   "metadata": {},
   "source": [
    "## Indexing tensors"
   ]
  },
  {
   "cell_type": "code",
   "execution_count": null,
   "id": "be52d693",
   "metadata": {},
   "outputs": [],
   "source": [
    "# get the first 2 elements of each dimension \n",
    "rank_4[:2, :2, :2, :2]"
   ]
  },
  {
   "cell_type": "code",
   "execution_count": null,
   "id": "02a64bcf",
   "metadata": {},
   "outputs": [],
   "source": [
    "#GET first element from each dimension from each index except for the final one \n",
    "rank_4[:1, :1, :1,:]"
   ]
  },
  {
   "cell_type": "code",
   "execution_count": null,
   "id": "7fa38b50",
   "metadata": {},
   "outputs": [],
   "source": [
    "#Changing or adding extra dimension to our tensor \n",
    "rank_2_tensor = tf.constant([[10, 7], \n",
    "                            [3, 4]])\n",
    "rank_2_tensor"
   ]
  },
  {
   "cell_type": "code",
   "execution_count": null,
   "id": "de1f93a6",
   "metadata": {},
   "outputs": [],
   "source": [
    "info(rank_2_tensor)"
   ]
  },
  {
   "cell_type": "code",
   "execution_count": null,
   "id": "3034a04b",
   "metadata": {},
   "outputs": [],
   "source": [
    "#get last item of each dimesion \n",
    "rank_2_tensor[:, -1].numpy()"
   ]
  },
  {
   "cell_type": "code",
   "execution_count": null,
   "id": "0f72458b",
   "metadata": {},
   "outputs": [],
   "source": [
    "# Add in extra dimension to our rank 2 tensor \n",
    "rank_3_tensor = rank_2_tensor[..., tf.newaxis]\n",
    "rank_3_tensor"
   ]
  },
  {
   "cell_type": "code",
   "execution_count": null,
   "id": "4eb39726",
   "metadata": {},
   "outputs": [],
   "source": [
    "#Alternative to tf.newaxis \n",
    "tf.expand_dims(rank_2_tensor, axis=-1) #'-1' means expand the final axis "
   ]
  },
  {
   "cell_type": "code",
   "execution_count": null,
   "id": "8c1c0bb7",
   "metadata": {},
   "outputs": [],
   "source": [
    "tf.expand_dims(rank_2_tensor, axis=0)"
   ]
  },
  {
   "cell_type": "code",
   "execution_count": null,
   "id": "b36d861f",
   "metadata": {},
   "outputs": [],
   "source": [
    "new_dim = tf.expand_dims(rank_2_tensor, axis=1)\n",
    "new_dim[..., -1]"
   ]
  },
  {
   "cell_type": "markdown",
   "id": "513eced9",
   "metadata": {},
   "source": [
    "## Manipulating tensors (tensor operation)\n",
    "\n",
    "**Basic Operations** \n",
    "`+`, `-`, `*`, `/`"
   ]
  },
  {
   "cell_type": "code",
   "execution_count": null,
   "id": "b2860a71",
   "metadata": {},
   "outputs": [],
   "source": [
    "tensor = tf.constant([[10, 7], \n",
    "                     [3, 4]])\n",
    "tensor + 10 #addition (not inplaced)\n",
    "tensor * 10 #multiplication (not inplaced)\n",
    "tensor - 10 #subtraction (not inplaced)\n",
    "tensor / 10 #division (not inplaced)\n",
    "\n",
    "tensor += 10 #addition (inplaced)\n",
    "tensor"
   ]
  },
  {
   "cell_type": "code",
   "execution_count": null,
   "id": "c5b111b5",
   "metadata": {},
   "outputs": [],
   "source": [
    "# We can use tf built-in function too \n",
    "tf.multiply(tensor, 10) == tensor * 10 # both are same "
   ]
  },
  {
   "cell_type": "markdown",
   "id": "6366ad10",
   "metadata": {},
   "source": [
    "## **Matrix Multiplication** "
   ]
  },
  {
   "cell_type": "code",
   "execution_count": null,
   "id": "9f2c5622",
   "metadata": {},
   "outputs": [],
   "source": [
    "## Matrix multiplication in tensorflow \n",
    "tf.matmul(tensor, tensor) #dot product"
   ]
  },
  {
   "cell_type": "code",
   "execution_count": null,
   "id": "4e981e9d",
   "metadata": {},
   "outputs": [],
   "source": [
    "tensor * tensor #element wise  (both of tensors should have same shape)"
   ]
  },
  {
   "cell_type": "code",
   "execution_count": null,
   "id": "5eaad287",
   "metadata": {},
   "outputs": [],
   "source": [
    "#Matrix multiplication (dot product) using python operator \"@\"\n",
    "a = tf.constant([[1, 2, 5], \n",
    "                [7, 2, 1], \n",
    "                [3, 3, 3]])\n",
    "b = tf.constant([[3, 5], \n",
    "                [6, 7], \n",
    "                [1, 8]])"
   ]
  },
  {
   "cell_type": "code",
   "execution_count": null,
   "id": "e8662416",
   "metadata": {},
   "outputs": [],
   "source": [
    "a @ b, tf.matmul(a, b), a@b == tf.matmul(a, b)"
   ]
  },
  {
   "cell_type": "code",
   "execution_count": null,
   "id": "8b13914a",
   "metadata": {},
   "outputs": [],
   "source": [
    "c = tf.constant([[1, 2], \n",
    "                [4, 5], \n",
    "                [3, 6]])\n",
    "c * c"
   ]
  },
  {
   "cell_type": "code",
   "execution_count": null,
   "id": "d03610e0",
   "metadata": {},
   "outputs": [],
   "source": [
    "c, tf.transpose(c), c.shape, tf.transpose(c).shape"
   ]
  },
  {
   "cell_type": "code",
   "execution_count": null,
   "id": "15fe9587",
   "metadata": {},
   "outputs": [],
   "source": [
    "c @ tf.transpose(c)"
   ]
  },
  {
   "cell_type": "code",
   "execution_count": null,
   "id": "6170dd37",
   "metadata": {},
   "outputs": [],
   "source": [
    "tf.transpose(c) @ c"
   ]
  },
  {
   "cell_type": "code",
   "execution_count": null,
   "id": "9879a351",
   "metadata": {},
   "outputs": [],
   "source": [
    "def get_details(tensor) -> None:\n",
    "    print('Shape: ', tensor.shape)\n",
    "    print()"
   ]
  }
 ],
 "metadata": {
  "kernelspec": {
   "display_name": "Python 3 (ipykernel)",
   "language": "python",
   "name": "python3"
  },
  "language_info": {
   "codemirror_mode": {
    "name": "ipython",
    "version": 3
   },
   "file_extension": ".py",
   "mimetype": "text/x-python",
   "name": "python",
   "nbconvert_exporter": "python",
   "pygments_lexer": "ipython3",
   "version": "3.10.10"
  }
 },
 "nbformat": 4,
 "nbformat_minor": 5
}
