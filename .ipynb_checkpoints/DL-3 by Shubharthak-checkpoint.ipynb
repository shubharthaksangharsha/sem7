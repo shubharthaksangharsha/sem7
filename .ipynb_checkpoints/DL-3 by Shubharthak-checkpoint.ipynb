{
 "cells": [
  {
   "cell_type": "markdown",
   "id": "d5f1f1dc",
   "metadata": {},
   "source": [
    "# Deep Learning Lab \n",
    "## Experiment 3: Write a python code for implementation of Back Propogation\n",
    "\n",
    "### By Shubharthak, 20BCS6872"
   ]
  },
  {
   "cell_type": "code",
   "execution_count": 1,
   "id": "6e98b6f7",
   "metadata": {},
   "outputs": [],
   "source": [
    "#Import the required libraries \n",
    "import numpy as np"
   ]
  },
  {
   "cell_type": "code",
   "execution_count": 2,
   "id": "aac21035",
   "metadata": {},
   "outputs": [],
   "source": [
    "# Define sigmoid activation function\n",
    "def sigmoid(x):\n",
    "    return 1 / (1 + np.exp(-x))\n",
    "\n",
    "# Define derivative of sigmoid function\n",
    "def sigmoid_derivative(x):\n",
    "    return x * (1 - x)\n"
   ]
  },
  {
   "cell_type": "markdown",
   "id": "34b8c8bb",
   "metadata": {},
   "source": [
    "### Initialize random weights and learning rate and input, output hidden layers "
   ]
  },
  {
   "cell_type": "code",
   "execution_count": 53,
   "id": "234a27f4",
   "metadata": {},
   "outputs": [],
   "source": [
    "# Initialize weights and learning rate and input, output hidden layers \n",
    "np.random.seed(42)\n",
    "# Initialize weights and biases to intentionally produce a wrong output\n",
    "input_layer = np.array([[0.1, 0.2]])\n",
    "hidden_layer = np.array([[0.3, 0.4], [0.5, 0.6]])\n",
    "output_layer = np.array([[0.7], [0.8]])\n",
    "learning_rate = 0.1 \n",
    "# Input data and target\n",
    "input_data = input_layer\n",
    "output_target = np.array([[0.8]])\n",
    "epochs = 10000"
   ]
  },
  {
   "cell_type": "markdown",
   "id": "0cfaebdd",
   "metadata": {},
   "source": [
    "### Training loop\n",
    "\n",
    "This loop iterates over a specified number of epochs (iterations). Within each epoch, the code performs forward propagation, calculates errors, performs backpropagation, updates weights, and prints error information for the first 10 and last 10 epochs.\n",
    "\n",
    "\n",
    "Forward Pass\n",
    "* The input data is multiplied by the weights of the hidden layer and passed through the sigmoid activation function to compute the hidden_output.\n",
    "* The hidden layer output is multiplied by the weights of the output layer and passed through the sigmoid activation function to compute the predicted_output.\n",
    "\n",
    "\n",
    "Backpropogation\n",
    "* `d_predicted_output` calculates the error multiplied by the derivative of the sigmoid function for the predicted output.\n",
    "* `error_hidden_layer` calculates the error for the hidden layer by taking the dot product of the above error with the transposed output layer.\n",
    "* `d_hidden_layer` calculates the error for the hidden layer multiplied by the derivative of the sigmoid function for the hidden output.\n",
    "\n",
    "**Weight Updates**\n",
    "\n",
    "* output_layer += hidden_output.T.dot(d_predicted_output) * learning_rate\n",
    "* hidden_layer += input_data.T.dot(d_hidden_layer) * learning_rate\n",
    "\n",
    "These lines update the weights of the output and hidden layers using the calculated errors and learning rate through gradient descent."
   ]
  },
  {
   "cell_type": "code",
   "execution_count": 55,
   "id": "64520a9a",
   "metadata": {},
   "outputs": [
    {
     "name": "stdout",
     "output_type": "stream",
     "text": [
      "Iteration: 1\n",
      "Predicted Output: [[0.79999998]]\n",
      "Actual Output: [[0.8]]\n",
      "Error: [[1.59239772e-08]]\n",
      "\n",
      "\n",
      "Iteration: 2\n",
      "Predicted Output: [[0.79999998]]\n",
      "Actual Output: [[0.8]]\n",
      "Error: [[1.58998462e-08]]\n",
      "\n",
      "\n",
      "Iteration: 3\n",
      "Predicted Output: [[0.79999998]]\n",
      "Actual Output: [[0.8]]\n",
      "Error: [[1.5875752e-08]]\n",
      "\n",
      "\n",
      "Iteration: 4\n",
      "Predicted Output: [[0.79999998]]\n",
      "Actual Output: [[0.8]]\n",
      "Error: [[1.58516942e-08]]\n",
      "\n",
      "\n",
      "Iteration: 5\n",
      "Predicted Output: [[0.79999998]]\n",
      "Actual Output: [[0.8]]\n",
      "Error: [[1.58276728e-08]]\n",
      "\n",
      "\n",
      "Iteration: 6\n",
      "Predicted Output: [[0.79999998]]\n",
      "Actual Output: [[0.8]]\n",
      "Error: [[1.58036879e-08]]\n",
      "\n",
      "\n",
      "Iteration: 7\n",
      "Predicted Output: [[0.79999998]]\n",
      "Actual Output: [[0.8]]\n",
      "Error: [[1.57797393e-08]]\n",
      "\n",
      "\n",
      "Iteration: 8\n",
      "Predicted Output: [[0.79999998]]\n",
      "Actual Output: [[0.8]]\n",
      "Error: [[1.5755827e-08]]\n",
      "\n",
      "\n",
      "Iteration: 9\n",
      "Predicted Output: [[0.79999998]]\n",
      "Actual Output: [[0.8]]\n",
      "Error: [[1.5731951e-08]]\n",
      "\n",
      "\n",
      "Iteration: 10\n",
      "Predicted Output: [[0.79999998]]\n",
      "Actual Output: [[0.8]]\n",
      "Error: [[1.57081111e-08]]\n",
      "\n",
      "\n",
      "Iteration: 11\n",
      "Predicted Output: [[0.79999998]]\n",
      "Actual Output: [[0.8]]\n",
      "Error: [[1.56843073e-08]]\n",
      "\n",
      "\n",
      "Predected Output from Last iterations: [[0.8]]\n",
      "Predected Output from Last iterations: [[0.8]]\n",
      "Predected Output from Last iterations: [[0.8]]\n",
      "Predected Output from Last iterations: [[0.8]]\n",
      "Predected Output from Last iterations: [[0.8]]\n",
      "Predected Output from Last iterations: [[0.8]]\n",
      "Predected Output from Last iterations: [[0.8]]\n",
      "Predected Output from Last iterations: [[0.8]]\n",
      "Predected Output from Last iterations: [[0.8]]\n",
      "Predected Output from Last iterations: [[0.8]]\n"
     ]
    }
   ],
   "source": [
    "# Training loop\n",
    "for epoch in range(epochs):\n",
    "    # Forward propagation\n",
    "    hidden_input = np.dot(input_data, hidden_layer)\n",
    "    hidden_output = sigmoid(hidden_input)\n",
    "    \n",
    "    output_input = np.dot(hidden_output, output_layer)\n",
    "    predicted_output = sigmoid(output_input)\n",
    "    \n",
    "    # Calculate error\n",
    "    error = output_target - predicted_output\n",
    "  \n",
    "    # Backpropagation\n",
    "    d_predicted_output = error * sigmoid_derivative(predicted_output)\n",
    "    error_hidden_layer = d_predicted_output.dot(output_layer.T)\n",
    "    d_hidden_layer = error_hidden_layer * sigmoid_derivative(hidden_output)\n",
    "    \n",
    "    # Update weights\n",
    "    output_layer += hidden_output.T.dot(d_predicted_output) * learning_rate\n",
    "    hidden_layer += input_data.T.dot(d_hidden_layer) * learning_rate\n",
    "    \n",
    "    #Print first 10 error updatations \n",
    "    if epoch <= 10:\n",
    "        print(f\"Iteration: {epoch+1}\\nPredicted Output: {predicted_output}\\nActual Output: {output_target}\\nError: {error}\\n\\n\")\n",
    "        \n",
    "    if epochs - epoch <= 10:\n",
    "        print(f'Predected Output from Last iterations: {predicted_output}')\n"
   ]
  },
  {
   "cell_type": "code",
   "execution_count": 56,
   "id": "8fa8816d",
   "metadata": {},
   "outputs": [
    {
     "name": "stdout",
     "output_type": "stream",
     "text": [
      "Final predicted output: [[0.8]]\n"
     ]
    }
   ],
   "source": [
    "# Final predicted output after training\n",
    "print(\"Final predicted output:\", predicted_output)"
   ]
  }
 ],
 "metadata": {
  "kernelspec": {
   "display_name": "Python 3 (ipykernel)",
   "language": "python",
   "name": "python3"
  },
  "language_info": {
   "codemirror_mode": {
    "name": "ipython",
    "version": 3
   },
   "file_extension": ".py",
   "mimetype": "text/x-python",
   "name": "python",
   "nbconvert_exporter": "python",
   "pygments_lexer": "ipython3",
   "version": "3.10.10"
  }
 },
 "nbformat": 4,
 "nbformat_minor": 5
}
